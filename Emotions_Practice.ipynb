{
 "cells": [
  {
   "cell_type": "code",
   "execution_count": 56,
   "id": "33547a8b",
   "metadata": {},
   "outputs": [],
   "source": [
    "# !pip install spacy\n",
    "# !pip install vaderSentiment"
   ]
  },
  {
   "cell_type": "code",
   "execution_count": 57,
   "id": "e984ed75",
   "metadata": {},
   "outputs": [],
   "source": [
    "import pandas as pd\n",
    "import re\n",
    "import spacy\n",
    "import nltk\n",
    "from nltk.corpus import stopwords\n",
    "from nltk.stem import SnowballStemmer\n",
    "from vaderSentiment.vaderSentiment import SentimentIntensityAnalyzer\n",
    "from sklearn.model_selection import train_test_split\n",
    "from sklearn.feature_extraction.text import CountVectorizer\n",
    "from sklearn.svm import LinearSVC"
   ]
  },
  {
   "cell_type": "code",
   "execution_count": 58,
   "id": "32411322",
   "metadata": {},
   "outputs": [
    {
     "data": {
      "text/html": [
       "<div>\n",
       "<style scoped>\n",
       "    .dataframe tbody tr th:only-of-type {\n",
       "        vertical-align: middle;\n",
       "    }\n",
       "\n",
       "    .dataframe tbody tr th {\n",
       "        vertical-align: top;\n",
       "    }\n",
       "\n",
       "    .dataframe thead th {\n",
       "        text-align: right;\n",
       "    }\n",
       "</style>\n",
       "<table border=\"1\" class=\"dataframe\">\n",
       "  <thead>\n",
       "    <tr style=\"text-align: right;\">\n",
       "      <th></th>\n",
       "      <th>text</th>\n",
       "      <th>emotions</th>\n",
       "    </tr>\n",
       "  </thead>\n",
       "  <tbody>\n",
       "    <tr>\n",
       "      <th>0</th>\n",
       "      <td>i didnt feel humiliated</td>\n",
       "      <td>sadness</td>\n",
       "    </tr>\n",
       "    <tr>\n",
       "      <th>1</th>\n",
       "      <td>i can go from feeling so hopeless to so damned...</td>\n",
       "      <td>sadness</td>\n",
       "    </tr>\n",
       "    <tr>\n",
       "      <th>2</th>\n",
       "      <td>im grabbing a minute to post i feel greedy wrong</td>\n",
       "      <td>anger</td>\n",
       "    </tr>\n",
       "    <tr>\n",
       "      <th>3</th>\n",
       "      <td>i am ever feeling nostalgic about the fireplac...</td>\n",
       "      <td>love</td>\n",
       "    </tr>\n",
       "    <tr>\n",
       "      <th>4</th>\n",
       "      <td>i am feeling grouchy</td>\n",
       "      <td>anger</td>\n",
       "    </tr>\n",
       "  </tbody>\n",
       "</table>\n",
       "</div>"
      ],
      "text/plain": [
       "                                                text emotions\n",
       "0                            i didnt feel humiliated  sadness\n",
       "1  i can go from feeling so hopeless to so damned...  sadness\n",
       "2   im grabbing a minute to post i feel greedy wrong    anger\n",
       "3  i am ever feeling nostalgic about the fireplac...     love\n",
       "4                               i am feeling grouchy    anger"
      ]
     },
     "execution_count": 58,
     "metadata": {},
     "output_type": "execute_result"
    }
   ],
   "source": [
    "dff=pd.read_csv(\"emotions/train.txt\",sep=\";\",names=['text','emotions'])\n",
    "dff.head()"
   ]
  },
  {
   "cell_type": "markdown",
   "id": "9f4fd30b",
   "metadata": {},
   "source": [
    "# EDA Starts\n"
   ]
  },
  {
   "cell_type": "markdown",
   "id": "e00cdc0e",
   "metadata": {},
   "source": [
    "Question1"
   ]
  },
  {
   "cell_type": "code",
   "execution_count": 59,
   "id": "bc84cdc3",
   "metadata": {},
   "outputs": [],
   "source": [
    "df=dff.copy()"
   ]
  },
  {
   "cell_type": "code",
   "execution_count": 60,
   "id": "e9b70fc5",
   "metadata": {},
   "outputs": [
    {
     "data": {
      "text/plain": [
       "text        False\n",
       "emotions    False\n",
       "dtype: bool"
      ]
     },
     "execution_count": 60,
     "metadata": {},
     "output_type": "execute_result"
    }
   ],
   "source": [
    "df.isnull().any() #no missing value"
   ]
  },
  {
   "cell_type": "code",
   "execution_count": 61,
   "id": "3fc72797",
   "metadata": {},
   "outputs": [
    {
     "data": {
      "text/plain": [
       "'i didnt feel humiliated'"
      ]
     },
     "execution_count": 61,
     "metadata": {},
     "output_type": "execute_result"
    }
   ],
   "source": [
    "df.iloc[0,0]"
   ]
  },
  {
   "cell_type": "code",
   "execution_count": 62,
   "id": "62a3be01",
   "metadata": {},
   "outputs": [
    {
     "data": {
      "text/plain": [
       "1.92"
      ]
     },
     "execution_count": 62,
     "metadata": {},
     "output_type": "execute_result"
    }
   ],
   "source": [
    "coverage=round(len(df.iloc[0,0])/len(set(df.iloc[0,0])),2)\n",
    "coverage"
   ]
  },
  {
   "cell_type": "code",
   "execution_count": 63,
   "id": "a1014a47",
   "metadata": {},
   "outputs": [],
   "source": [
    "df_q1=df.copy()"
   ]
  },
  {
   "cell_type": "code",
   "execution_count": 64,
   "id": "52630e05",
   "metadata": {},
   "outputs": [
    {
     "data": {
      "text/html": [
       "<div>\n",
       "<style scoped>\n",
       "    .dataframe tbody tr th:only-of-type {\n",
       "        vertical-align: middle;\n",
       "    }\n",
       "\n",
       "    .dataframe tbody tr th {\n",
       "        vertical-align: top;\n",
       "    }\n",
       "\n",
       "    .dataframe thead th {\n",
       "        text-align: right;\n",
       "    }\n",
       "</style>\n",
       "<table border=\"1\" class=\"dataframe\">\n",
       "  <thead>\n",
       "    <tr style=\"text-align: right;\">\n",
       "      <th></th>\n",
       "      <th>text</th>\n",
       "      <th>emotions</th>\n",
       "    </tr>\n",
       "  </thead>\n",
       "  <tbody>\n",
       "    <tr>\n",
       "      <th>0</th>\n",
       "      <td>i didnt feel humiliated</td>\n",
       "      <td>sadness</td>\n",
       "    </tr>\n",
       "    <tr>\n",
       "      <th>1</th>\n",
       "      <td>i can go from feeling so hopeless to so damned...</td>\n",
       "      <td>sadness</td>\n",
       "    </tr>\n",
       "    <tr>\n",
       "      <th>2</th>\n",
       "      <td>im grabbing a minute to post i feel greedy wrong</td>\n",
       "      <td>anger</td>\n",
       "    </tr>\n",
       "    <tr>\n",
       "      <th>3</th>\n",
       "      <td>i am ever feeling nostalgic about the fireplac...</td>\n",
       "      <td>love</td>\n",
       "    </tr>\n",
       "    <tr>\n",
       "      <th>4</th>\n",
       "      <td>i am feeling grouchy</td>\n",
       "      <td>anger</td>\n",
       "    </tr>\n",
       "  </tbody>\n",
       "</table>\n",
       "</div>"
      ],
      "text/plain": [
       "                                                text emotions\n",
       "0                            i didnt feel humiliated  sadness\n",
       "1  i can go from feeling so hopeless to so damned...  sadness\n",
       "2   im grabbing a minute to post i feel greedy wrong    anger\n",
       "3  i am ever feeling nostalgic about the fireplac...     love\n",
       "4                               i am feeling grouchy    anger"
      ]
     },
     "execution_count": 64,
     "metadata": {},
     "output_type": "execute_result"
    }
   ],
   "source": [
    "df.head()"
   ]
  },
  {
   "cell_type": "markdown",
   "id": "675cbc9a",
   "metadata": {},
   "source": [
    "Question 2"
   ]
  },
  {
   "cell_type": "code",
   "execution_count": 65,
   "id": "6cbb0690",
   "metadata": {},
   "outputs": [],
   "source": [
    "df['no_punct']=df['text'].str.lower().apply(lambda x:re.sub(r'[^a-z\\s]','',x))"
   ]
  },
  {
   "cell_type": "code",
   "execution_count": 66,
   "id": "eb9ce1cb",
   "metadata": {},
   "outputs": [],
   "source": [
    "#loading spacy\n",
    "nlp=spacy.load(name=\"en_core_web_sm\")\n",
    "from spacy.tokenizer import Tokenizer\n",
    "from nltk.corpus import stopwords\n",
    "stop_words=set(stopwords.words('english'))\n",
    "from nltk.stem import WordNetLemmatizer\n"
   ]
  },
  {
   "cell_type": "code",
   "execution_count": 77,
   "id": "d9fa489a",
   "metadata": {},
   "outputs": [],
   "source": [
    "#Spacy tokenizer\n",
    "def tokens(text):\n",
    "    doc=nlp(text)\n",
    "    token=[i.text for i in doc]\n",
    "    return token\n",
    "df['tokenized']=df['no_punct'].apply(lambda x:tokens(x))\n",
    "\n",
    "#stopwords removal\n",
    "\n",
    "def remove_stopwords(text,stop_words):\n",
    "    withoutstopwords=[i for i in text if i not in stop_words]\n",
    "    return ', '.join(withoutstopwords)\n",
    "    \n",
    "df['rem_stop']=df['tokenized'].apply(lambda x:remove_stopwords(x,stop_words))\n",
    "\n",
    "#lemmatization\n",
    "lemmatizer=WordNetLemmatizer()\n",
    "def lemma(text):\n",
    "    text = text.split(\", \") # as rem_stop is having , seperator\n",
    "    lemma_Word=[lemmatizer.lemmatize(w) for w in text]\n",
    "    return lemma_Word\n",
    "df['lemmatized']=df['rem_stop'].apply(lambda x:lemma(x))\n",
    "    \n"
   ]
  },
  {
   "cell_type": "code",
   "execution_count": 78,
   "id": "6ca79dcc",
   "metadata": {},
   "outputs": [
    {
     "data": {
      "text/html": [
       "<div>\n",
       "<style scoped>\n",
       "    .dataframe tbody tr th:only-of-type {\n",
       "        vertical-align: middle;\n",
       "    }\n",
       "\n",
       "    .dataframe tbody tr th {\n",
       "        vertical-align: top;\n",
       "    }\n",
       "\n",
       "    .dataframe thead th {\n",
       "        text-align: right;\n",
       "    }\n",
       "</style>\n",
       "<table border=\"1\" class=\"dataframe\">\n",
       "  <thead>\n",
       "    <tr style=\"text-align: right;\">\n",
       "      <th></th>\n",
       "      <th>text</th>\n",
       "      <th>emotions</th>\n",
       "      <th>no_punct</th>\n",
       "      <th>tokenized</th>\n",
       "      <th>rem_stop</th>\n",
       "      <th>lemmatized</th>\n",
       "    </tr>\n",
       "  </thead>\n",
       "  <tbody>\n",
       "    <tr>\n",
       "      <th>0</th>\n",
       "      <td>i didnt feel humiliated</td>\n",
       "      <td>sadness</td>\n",
       "      <td>i didnt feel humiliated</td>\n",
       "      <td>[i, did, nt, feel, humiliated]</td>\n",
       "      <td>nt, feel, humiliated</td>\n",
       "      <td>[nt, feel, humiliated]</td>\n",
       "    </tr>\n",
       "    <tr>\n",
       "      <th>1</th>\n",
       "      <td>i can go from feeling so hopeless to so damned...</td>\n",
       "      <td>sadness</td>\n",
       "      <td>i can go from feeling so hopeless to so damned...</td>\n",
       "      <td>[i, can, go, from, feeling, so, hopeless, to, ...</td>\n",
       "      <td>go, feeling, hopeless, damned, hopeful, around...</td>\n",
       "      <td>[go, feeling, hopeless, damned, hopeful, aroun...</td>\n",
       "    </tr>\n",
       "    <tr>\n",
       "      <th>2</th>\n",
       "      <td>im grabbing a minute to post i feel greedy wrong</td>\n",
       "      <td>anger</td>\n",
       "      <td>im grabbing a minute to post i feel greedy wrong</td>\n",
       "      <td>[i, m, grabbing, a, minute, to, post, i, feel,...</td>\n",
       "      <td>grabbing, minute, post, feel, greedy, wrong</td>\n",
       "      <td>[grabbing, minute, post, feel, greedy, wrong]</td>\n",
       "    </tr>\n",
       "    <tr>\n",
       "      <th>3</th>\n",
       "      <td>i am ever feeling nostalgic about the fireplac...</td>\n",
       "      <td>love</td>\n",
       "      <td>i am ever feeling nostalgic about the fireplac...</td>\n",
       "      <td>[i, am, ever, feeling, nostalgic, about, the, ...</td>\n",
       "      <td>ever, feeling, nostalgic, fireplace, know, sti...</td>\n",
       "      <td>[ever, feeling, nostalgic, fireplace, know, st...</td>\n",
       "    </tr>\n",
       "    <tr>\n",
       "      <th>4</th>\n",
       "      <td>i am feeling grouchy</td>\n",
       "      <td>anger</td>\n",
       "      <td>i am feeling grouchy</td>\n",
       "      <td>[i, am, feeling, grouchy]</td>\n",
       "      <td>feeling, grouchy</td>\n",
       "      <td>[feeling, grouchy]</td>\n",
       "    </tr>\n",
       "  </tbody>\n",
       "</table>\n",
       "</div>"
      ],
      "text/plain": [
       "                                                text emotions  \\\n",
       "0                            i didnt feel humiliated  sadness   \n",
       "1  i can go from feeling so hopeless to so damned...  sadness   \n",
       "2   im grabbing a minute to post i feel greedy wrong    anger   \n",
       "3  i am ever feeling nostalgic about the fireplac...     love   \n",
       "4                               i am feeling grouchy    anger   \n",
       "\n",
       "                                            no_punct  \\\n",
       "0                            i didnt feel humiliated   \n",
       "1  i can go from feeling so hopeless to so damned...   \n",
       "2   im grabbing a minute to post i feel greedy wrong   \n",
       "3  i am ever feeling nostalgic about the fireplac...   \n",
       "4                               i am feeling grouchy   \n",
       "\n",
       "                                           tokenized  \\\n",
       "0                     [i, did, nt, feel, humiliated]   \n",
       "1  [i, can, go, from, feeling, so, hopeless, to, ...   \n",
       "2  [i, m, grabbing, a, minute, to, post, i, feel,...   \n",
       "3  [i, am, ever, feeling, nostalgic, about, the, ...   \n",
       "4                          [i, am, feeling, grouchy]   \n",
       "\n",
       "                                            rem_stop  \\\n",
       "0                               nt, feel, humiliated   \n",
       "1  go, feeling, hopeless, damned, hopeful, around...   \n",
       "2        grabbing, minute, post, feel, greedy, wrong   \n",
       "3  ever, feeling, nostalgic, fireplace, know, sti...   \n",
       "4                                   feeling, grouchy   \n",
       "\n",
       "                                          lemmatized  \n",
       "0                             [nt, feel, humiliated]  \n",
       "1  [go, feeling, hopeless, damned, hopeful, aroun...  \n",
       "2      [grabbing, minute, post, feel, greedy, wrong]  \n",
       "3  [ever, feeling, nostalgic, fireplace, know, st...  \n",
       "4                                 [feeling, grouchy]  "
      ]
     },
     "execution_count": 78,
     "metadata": {},
     "output_type": "execute_result"
    }
   ],
   "source": [
    "df.head()"
   ]
  },
  {
   "cell_type": "code",
   "execution_count": 79,
   "id": "d23b1b10",
   "metadata": {},
   "outputs": [],
   "source": [
    "df_q3=df.copy()"
   ]
  },
  {
   "cell_type": "code",
   "execution_count": 80,
   "id": "bfa5c100",
   "metadata": {},
   "outputs": [
    {
     "data": {
      "text/html": [
       "<div>\n",
       "<style scoped>\n",
       "    .dataframe tbody tr th:only-of-type {\n",
       "        vertical-align: middle;\n",
       "    }\n",
       "\n",
       "    .dataframe tbody tr th {\n",
       "        vertical-align: top;\n",
       "    }\n",
       "\n",
       "    .dataframe thead th {\n",
       "        text-align: right;\n",
       "    }\n",
       "</style>\n",
       "<table border=\"1\" class=\"dataframe\">\n",
       "  <thead>\n",
       "    <tr style=\"text-align: right;\">\n",
       "      <th></th>\n",
       "      <th>text</th>\n",
       "      <th>emotions</th>\n",
       "      <th>no_punct</th>\n",
       "      <th>tokenized</th>\n",
       "      <th>rem_stop</th>\n",
       "      <th>lemmatized</th>\n",
       "    </tr>\n",
       "  </thead>\n",
       "  <tbody>\n",
       "    <tr>\n",
       "      <th>0</th>\n",
       "      <td>i didnt feel humiliated</td>\n",
       "      <td>sadness</td>\n",
       "      <td>i didnt feel humiliated</td>\n",
       "      <td>[i, did, nt, feel, humiliated]</td>\n",
       "      <td>nt, feel, humiliated</td>\n",
       "      <td>[nt, feel, humiliated]</td>\n",
       "    </tr>\n",
       "    <tr>\n",
       "      <th>1</th>\n",
       "      <td>i can go from feeling so hopeless to so damned...</td>\n",
       "      <td>sadness</td>\n",
       "      <td>i can go from feeling so hopeless to so damned...</td>\n",
       "      <td>[i, can, go, from, feeling, so, hopeless, to, ...</td>\n",
       "      <td>go, feeling, hopeless, damned, hopeful, around...</td>\n",
       "      <td>[go, feeling, hopeless, damned, hopeful, aroun...</td>\n",
       "    </tr>\n",
       "    <tr>\n",
       "      <th>2</th>\n",
       "      <td>im grabbing a minute to post i feel greedy wrong</td>\n",
       "      <td>anger</td>\n",
       "      <td>im grabbing a minute to post i feel greedy wrong</td>\n",
       "      <td>[i, m, grabbing, a, minute, to, post, i, feel,...</td>\n",
       "      <td>grabbing, minute, post, feel, greedy, wrong</td>\n",
       "      <td>[grabbing, minute, post, feel, greedy, wrong]</td>\n",
       "    </tr>\n",
       "    <tr>\n",
       "      <th>3</th>\n",
       "      <td>i am ever feeling nostalgic about the fireplac...</td>\n",
       "      <td>love</td>\n",
       "      <td>i am ever feeling nostalgic about the fireplac...</td>\n",
       "      <td>[i, am, ever, feeling, nostalgic, about, the, ...</td>\n",
       "      <td>ever, feeling, nostalgic, fireplace, know, sti...</td>\n",
       "      <td>[ever, feeling, nostalgic, fireplace, know, st...</td>\n",
       "    </tr>\n",
       "    <tr>\n",
       "      <th>4</th>\n",
       "      <td>i am feeling grouchy</td>\n",
       "      <td>anger</td>\n",
       "      <td>i am feeling grouchy</td>\n",
       "      <td>[i, am, feeling, grouchy]</td>\n",
       "      <td>feeling, grouchy</td>\n",
       "      <td>[feeling, grouchy]</td>\n",
       "    </tr>\n",
       "  </tbody>\n",
       "</table>\n",
       "</div>"
      ],
      "text/plain": [
       "                                                text emotions  \\\n",
       "0                            i didnt feel humiliated  sadness   \n",
       "1  i can go from feeling so hopeless to so damned...  sadness   \n",
       "2   im grabbing a minute to post i feel greedy wrong    anger   \n",
       "3  i am ever feeling nostalgic about the fireplac...     love   \n",
       "4                               i am feeling grouchy    anger   \n",
       "\n",
       "                                            no_punct  \\\n",
       "0                            i didnt feel humiliated   \n",
       "1  i can go from feeling so hopeless to so damned...   \n",
       "2   im grabbing a minute to post i feel greedy wrong   \n",
       "3  i am ever feeling nostalgic about the fireplac...   \n",
       "4                               i am feeling grouchy   \n",
       "\n",
       "                                           tokenized  \\\n",
       "0                     [i, did, nt, feel, humiliated]   \n",
       "1  [i, can, go, from, feeling, so, hopeless, to, ...   \n",
       "2  [i, m, grabbing, a, minute, to, post, i, feel,...   \n",
       "3  [i, am, ever, feeling, nostalgic, about, the, ...   \n",
       "4                          [i, am, feeling, grouchy]   \n",
       "\n",
       "                                            rem_stop  \\\n",
       "0                               nt, feel, humiliated   \n",
       "1  go, feeling, hopeless, damned, hopeful, around...   \n",
       "2        grabbing, minute, post, feel, greedy, wrong   \n",
       "3  ever, feeling, nostalgic, fireplace, know, sti...   \n",
       "4                                   feeling, grouchy   \n",
       "\n",
       "                                          lemmatized  \n",
       "0                             [nt, feel, humiliated]  \n",
       "1  [go, feeling, hopeless, damned, hopeful, aroun...  \n",
       "2      [grabbing, minute, post, feel, greedy, wrong]  \n",
       "3  [ever, feeling, nostalgic, fireplace, know, st...  \n",
       "4                                 [feeling, grouchy]  "
      ]
     },
     "execution_count": 80,
     "metadata": {},
     "output_type": "execute_result"
    }
   ],
   "source": [
    "df.head()"
   ]
  },
  {
   "cell_type": "code",
   "execution_count": 81,
   "id": "9fc673b2",
   "metadata": {},
   "outputs": [
    {
     "name": "stderr",
     "output_type": "stream",
     "text": [
      "C:\\Users\\Rashmi\\AppData\\Local\\Temp\\ipykernel_1880\\1205932796.py:7: SettingWithCopyWarning: \n",
      "A value is trying to be set on a copy of a slice from a DataFrame.\n",
      "Try using .loc[row_indexer,col_indexer] = value instead\n",
      "\n",
      "See the caveats in the documentation: https://pandas.pydata.org/pandas-docs/stable/user_guide/indexing.html#returning-a-view-versus-a-copy\n",
      "  new_df['pos_tag']=new_df['text'].apply(lambda x:pos_tag(x))\n"
     ]
    }
   ],
   "source": [
    "#pos tagging\n",
    "new_df=df.head(10) \n",
    "def pos_tag(text):\n",
    "    doc=nlp(text)#just like before in tokenize()\n",
    "    post_term=[i.pos_ for i in doc]\n",
    "    return post_term\n",
    "new_df['pos_tag']=new_df['text'].apply(lambda x:pos_tag(x))\n",
    "\n",
    "df_q4=new_df.copy()"
   ]
  },
  {
   "cell_type": "code",
   "execution_count": 82,
   "id": "ab1bc2a6",
   "metadata": {},
   "outputs": [
    {
     "name": "stderr",
     "output_type": "stream",
     "text": [
      "C:\\Users\\Rashmi\\AppData\\Local\\Temp\\ipykernel_1880\\3489394870.py:6: SettingWithCopyWarning: \n",
      "A value is trying to be set on a copy of a slice from a DataFrame.\n",
      "Try using .loc[row_indexer,col_indexer] = value instead\n",
      "\n",
      "See the caveats in the documentation: https://pandas.pydata.org/pandas-docs/stable/user_guide/indexing.html#returning-a-view-versus-a-copy\n",
      "  new_df['named_entity']=new_df['text'].apply(lambda x:ents(x))\n"
     ]
    }
   ],
   "source": [
    "#name entity recognition(NER)\n",
    "def ents(text):\n",
    "    doc=nlp(text)\n",
    "    entss=[(ent.text,ent.label_) for ent in doc.ents]\n",
    "    return entss\n",
    "new_df['named_entity']=new_df['text'].apply(lambda x:ents(x))\n",
    "df_q5=new_df.copy()\n",
    "    \n",
    "\n",
    "    "
   ]
  },
  {
   "cell_type": "code",
   "execution_count": 83,
   "id": "afdd6a5d",
   "metadata": {},
   "outputs": [
    {
     "name": "stderr",
     "output_type": "stream",
     "text": [
      "C:\\Users\\Rashmi\\AppData\\Local\\Temp\\ipykernel_1880\\1513896254.py:6: SettingWithCopyWarning: \n",
      "A value is trying to be set on a copy of a slice from a DataFrame.\n",
      "Try using .loc[row_indexer,col_indexer] = value instead\n",
      "\n",
      "See the caveats in the documentation: https://pandas.pydata.org/pandas-docs/stable/user_guide/indexing.html#returning-a-view-versus-a-copy\n",
      "  new_df['polarity_score']=new_df['text'].apply(lambda x:calculate_polarity(x))\n"
     ]
    }
   ],
   "source": [
    "#Polarity score\n",
    "obj=SentimentIntensityAnalyzer()\n",
    "def calculate_polarity(text):\n",
    "    pol=obj.polarity_scores(text)\n",
    "    return pol\n",
    "new_df['polarity_score']=new_df['text'].apply(lambda x:calculate_polarity(x))\n",
    "df_q6=new_df.copy()"
   ]
  },
  {
   "cell_type": "markdown",
   "id": "fe2f92f4",
   "metadata": {},
   "source": [
    "Feature Extraction and model Selection"
   ]
  },
  {
   "cell_type": "code",
   "execution_count": 84,
   "id": "89b7d424",
   "metadata": {},
   "outputs": [
    {
     "data": {
      "text/html": [
       "<div>\n",
       "<style scoped>\n",
       "    .dataframe tbody tr th:only-of-type {\n",
       "        vertical-align: middle;\n",
       "    }\n",
       "\n",
       "    .dataframe tbody tr th {\n",
       "        vertical-align: top;\n",
       "    }\n",
       "\n",
       "    .dataframe thead th {\n",
       "        text-align: right;\n",
       "    }\n",
       "</style>\n",
       "<table border=\"1\" class=\"dataframe\">\n",
       "  <thead>\n",
       "    <tr style=\"text-align: right;\">\n",
       "      <th></th>\n",
       "      <th>text</th>\n",
       "      <th>emotions</th>\n",
       "      <th>no_punct</th>\n",
       "      <th>tokenized</th>\n",
       "      <th>rem_stop</th>\n",
       "      <th>lemmatized</th>\n",
       "    </tr>\n",
       "  </thead>\n",
       "  <tbody>\n",
       "    <tr>\n",
       "      <th>0</th>\n",
       "      <td>i didnt feel humiliated</td>\n",
       "      <td>sadness</td>\n",
       "      <td>i didnt feel humiliated</td>\n",
       "      <td>[i, did, nt, feel, humiliated]</td>\n",
       "      <td>nt, feel, humiliated</td>\n",
       "      <td>[nt, feel, humiliated]</td>\n",
       "    </tr>\n",
       "    <tr>\n",
       "      <th>1</th>\n",
       "      <td>i can go from feeling so hopeless to so damned...</td>\n",
       "      <td>sadness</td>\n",
       "      <td>i can go from feeling so hopeless to so damned...</td>\n",
       "      <td>[i, can, go, from, feeling, so, hopeless, to, ...</td>\n",
       "      <td>go, feeling, hopeless, damned, hopeful, around...</td>\n",
       "      <td>[go, feeling, hopeless, damned, hopeful, aroun...</td>\n",
       "    </tr>\n",
       "    <tr>\n",
       "      <th>2</th>\n",
       "      <td>im grabbing a minute to post i feel greedy wrong</td>\n",
       "      <td>anger</td>\n",
       "      <td>im grabbing a minute to post i feel greedy wrong</td>\n",
       "      <td>[i, m, grabbing, a, minute, to, post, i, feel,...</td>\n",
       "      <td>grabbing, minute, post, feel, greedy, wrong</td>\n",
       "      <td>[grabbing, minute, post, feel, greedy, wrong]</td>\n",
       "    </tr>\n",
       "    <tr>\n",
       "      <th>3</th>\n",
       "      <td>i am ever feeling nostalgic about the fireplac...</td>\n",
       "      <td>love</td>\n",
       "      <td>i am ever feeling nostalgic about the fireplac...</td>\n",
       "      <td>[i, am, ever, feeling, nostalgic, about, the, ...</td>\n",
       "      <td>ever, feeling, nostalgic, fireplace, know, sti...</td>\n",
       "      <td>[ever, feeling, nostalgic, fireplace, know, st...</td>\n",
       "    </tr>\n",
       "    <tr>\n",
       "      <th>4</th>\n",
       "      <td>i am feeling grouchy</td>\n",
       "      <td>anger</td>\n",
       "      <td>i am feeling grouchy</td>\n",
       "      <td>[i, am, feeling, grouchy]</td>\n",
       "      <td>feeling, grouchy</td>\n",
       "      <td>[feeling, grouchy]</td>\n",
       "    </tr>\n",
       "  </tbody>\n",
       "</table>\n",
       "</div>"
      ],
      "text/plain": [
       "                                                text emotions  \\\n",
       "0                            i didnt feel humiliated  sadness   \n",
       "1  i can go from feeling so hopeless to so damned...  sadness   \n",
       "2   im grabbing a minute to post i feel greedy wrong    anger   \n",
       "3  i am ever feeling nostalgic about the fireplac...     love   \n",
       "4                               i am feeling grouchy    anger   \n",
       "\n",
       "                                            no_punct  \\\n",
       "0                            i didnt feel humiliated   \n",
       "1  i can go from feeling so hopeless to so damned...   \n",
       "2   im grabbing a minute to post i feel greedy wrong   \n",
       "3  i am ever feeling nostalgic about the fireplac...   \n",
       "4                               i am feeling grouchy   \n",
       "\n",
       "                                           tokenized  \\\n",
       "0                     [i, did, nt, feel, humiliated]   \n",
       "1  [i, can, go, from, feeling, so, hopeless, to, ...   \n",
       "2  [i, m, grabbing, a, minute, to, post, i, feel,...   \n",
       "3  [i, am, ever, feeling, nostalgic, about, the, ...   \n",
       "4                          [i, am, feeling, grouchy]   \n",
       "\n",
       "                                            rem_stop  \\\n",
       "0                               nt, feel, humiliated   \n",
       "1  go, feeling, hopeless, damned, hopeful, around...   \n",
       "2        grabbing, minute, post, feel, greedy, wrong   \n",
       "3  ever, feeling, nostalgic, fireplace, know, sti...   \n",
       "4                                   feeling, grouchy   \n",
       "\n",
       "                                          lemmatized  \n",
       "0                             [nt, feel, humiliated]  \n",
       "1  [go, feeling, hopeless, damned, hopeful, aroun...  \n",
       "2      [grabbing, minute, post, feel, greedy, wrong]  \n",
       "3  [ever, feeling, nostalgic, fireplace, know, st...  \n",
       "4                                 [feeling, grouchy]  "
      ]
     },
     "execution_count": 84,
     "metadata": {},
     "output_type": "execute_result"
    }
   ],
   "source": [
    "df.head()"
   ]
  },
  {
   "cell_type": "code",
   "execution_count": 122,
   "id": "2d7d3b06",
   "metadata": {},
   "outputs": [],
   "source": [
    "x=df['lemmatized'].astype(str)\n",
    "y=df['emotions']\n",
    "\n",
    "count_vect = CountVectorizer()\n",
    "count_fit = count_vect.fit(x)  # Fit CountVectorizer on X and transform\n",
    "\n",
    "# Transform X and convert to DataFrame with feature names\n",
    "X_transformed = count_fit.transform(x)\n",
    "words = pd.DataFrame(X_transformed.toarray(), columns=count_fit.get_feature_names_out())"
   ]
  },
  {
   "cell_type": "code",
   "execution_count": 124,
   "id": "4981f9b6",
   "metadata": {},
   "outputs": [
    {
     "data": {
      "text/html": [
       "<div>\n",
       "<style scoped>\n",
       "    .dataframe tbody tr th:only-of-type {\n",
       "        vertical-align: middle;\n",
       "    }\n",
       "\n",
       "    .dataframe tbody tr th {\n",
       "        vertical-align: top;\n",
       "    }\n",
       "\n",
       "    .dataframe thead th {\n",
       "        text-align: right;\n",
       "    }\n",
       "</style>\n",
       "<table border=\"1\" class=\"dataframe\">\n",
       "  <thead>\n",
       "    <tr style=\"text-align: right;\">\n",
       "      <th></th>\n",
       "      <th>aa</th>\n",
       "      <th>aaaaaaand</th>\n",
       "      <th>aaaaand</th>\n",
       "      <th>aaaand</th>\n",
       "      <th>aac</th>\n",
       "      <th>aahhh</th>\n",
       "      <th>aaron</th>\n",
       "      <th>ab</th>\n",
       "      <th>abandon</th>\n",
       "      <th>abandoned</th>\n",
       "      <th>...</th>\n",
       "      <th>zoned</th>\n",
       "      <th>zonisamide</th>\n",
       "      <th>zoo</th>\n",
       "      <th>zoom</th>\n",
       "      <th>zooming</th>\n",
       "      <th>zq</th>\n",
       "      <th>zucchini</th>\n",
       "      <th>zum</th>\n",
       "      <th>zumba</th>\n",
       "      <th>zz</th>\n",
       "    </tr>\n",
       "  </thead>\n",
       "  <tbody>\n",
       "    <tr>\n",
       "      <th>0</th>\n",
       "      <td>0</td>\n",
       "      <td>0</td>\n",
       "      <td>0</td>\n",
       "      <td>0</td>\n",
       "      <td>0</td>\n",
       "      <td>0</td>\n",
       "      <td>0</td>\n",
       "      <td>0</td>\n",
       "      <td>0</td>\n",
       "      <td>0</td>\n",
       "      <td>...</td>\n",
       "      <td>0</td>\n",
       "      <td>0</td>\n",
       "      <td>0</td>\n",
       "      <td>0</td>\n",
       "      <td>0</td>\n",
       "      <td>0</td>\n",
       "      <td>0</td>\n",
       "      <td>0</td>\n",
       "      <td>0</td>\n",
       "      <td>0</td>\n",
       "    </tr>\n",
       "    <tr>\n",
       "      <th>1</th>\n",
       "      <td>0</td>\n",
       "      <td>0</td>\n",
       "      <td>0</td>\n",
       "      <td>0</td>\n",
       "      <td>0</td>\n",
       "      <td>0</td>\n",
       "      <td>0</td>\n",
       "      <td>0</td>\n",
       "      <td>0</td>\n",
       "      <td>0</td>\n",
       "      <td>...</td>\n",
       "      <td>0</td>\n",
       "      <td>0</td>\n",
       "      <td>0</td>\n",
       "      <td>0</td>\n",
       "      <td>0</td>\n",
       "      <td>0</td>\n",
       "      <td>0</td>\n",
       "      <td>0</td>\n",
       "      <td>0</td>\n",
       "      <td>0</td>\n",
       "    </tr>\n",
       "    <tr>\n",
       "      <th>2</th>\n",
       "      <td>0</td>\n",
       "      <td>0</td>\n",
       "      <td>0</td>\n",
       "      <td>0</td>\n",
       "      <td>0</td>\n",
       "      <td>0</td>\n",
       "      <td>0</td>\n",
       "      <td>0</td>\n",
       "      <td>0</td>\n",
       "      <td>0</td>\n",
       "      <td>...</td>\n",
       "      <td>0</td>\n",
       "      <td>0</td>\n",
       "      <td>0</td>\n",
       "      <td>0</td>\n",
       "      <td>0</td>\n",
       "      <td>0</td>\n",
       "      <td>0</td>\n",
       "      <td>0</td>\n",
       "      <td>0</td>\n",
       "      <td>0</td>\n",
       "    </tr>\n",
       "    <tr>\n",
       "      <th>3</th>\n",
       "      <td>0</td>\n",
       "      <td>0</td>\n",
       "      <td>0</td>\n",
       "      <td>0</td>\n",
       "      <td>0</td>\n",
       "      <td>0</td>\n",
       "      <td>0</td>\n",
       "      <td>0</td>\n",
       "      <td>0</td>\n",
       "      <td>0</td>\n",
       "      <td>...</td>\n",
       "      <td>0</td>\n",
       "      <td>0</td>\n",
       "      <td>0</td>\n",
       "      <td>0</td>\n",
       "      <td>0</td>\n",
       "      <td>0</td>\n",
       "      <td>0</td>\n",
       "      <td>0</td>\n",
       "      <td>0</td>\n",
       "      <td>0</td>\n",
       "    </tr>\n",
       "    <tr>\n",
       "      <th>4</th>\n",
       "      <td>0</td>\n",
       "      <td>0</td>\n",
       "      <td>0</td>\n",
       "      <td>0</td>\n",
       "      <td>0</td>\n",
       "      <td>0</td>\n",
       "      <td>0</td>\n",
       "      <td>0</td>\n",
       "      <td>0</td>\n",
       "      <td>0</td>\n",
       "      <td>...</td>\n",
       "      <td>0</td>\n",
       "      <td>0</td>\n",
       "      <td>0</td>\n",
       "      <td>0</td>\n",
       "      <td>0</td>\n",
       "      <td>0</td>\n",
       "      <td>0</td>\n",
       "      <td>0</td>\n",
       "      <td>0</td>\n",
       "      <td>0</td>\n",
       "    </tr>\n",
       "  </tbody>\n",
       "</table>\n",
       "<p>5 rows × 13411 columns</p>\n",
       "</div>"
      ],
      "text/plain": [
       "   aa  aaaaaaand  aaaaand  aaaand  aac  aahhh  aaron  ab  abandon  abandoned  \\\n",
       "0   0          0        0       0    0      0      0   0        0          0   \n",
       "1   0          0        0       0    0      0      0   0        0          0   \n",
       "2   0          0        0       0    0      0      0   0        0          0   \n",
       "3   0          0        0       0    0      0      0   0        0          0   \n",
       "4   0          0        0       0    0      0      0   0        0          0   \n",
       "\n",
       "   ...  zoned  zonisamide  zoo  zoom  zooming  zq  zucchini  zum  zumba  zz  \n",
       "0  ...      0           0    0     0        0   0         0    0      0   0  \n",
       "1  ...      0           0    0     0        0   0         0    0      0   0  \n",
       "2  ...      0           0    0     0        0   0         0    0      0   0  \n",
       "3  ...      0           0    0     0        0   0         0    0      0   0  \n",
       "4  ...      0           0    0     0        0   0         0    0      0   0  \n",
       "\n",
       "[5 rows x 13411 columns]"
      ]
     },
     "execution_count": 124,
     "metadata": {},
     "output_type": "execute_result"
    }
   ],
   "source": [
    "words=pd.DataFrame(words)\n",
    "words.head()"
   ]
  },
  {
   "cell_type": "code",
   "execution_count": 125,
   "id": "0f32f5e7",
   "metadata": {},
   "outputs": [],
   "source": [
    "X_train, X_test, y_train, y_test=train_test_split(words,y,test_size=0.2,random_state=42)\n"
   ]
  },
  {
   "cell_type": "code",
   "execution_count": 133,
   "id": "0767f5e0",
   "metadata": {},
   "outputs": [
    {
     "name": "stderr",
     "output_type": "stream",
     "text": [
      "C:\\Users\\Rashmi\\anaconda3\\Lib\\site-packages\\sklearn\\svm\\_classes.py:32: FutureWarning: The default value of `dual` will change from `True` to `'auto'` in 1.5. Set the value of `dual` explicitly to suppress the warning.\n",
      "  warnings.warn(\n"
     ]
    }
   ],
   "source": [
    "model=LinearSVC()\n",
    "model=model.fit(X_train, y_train)"
   ]
  },
  {
   "cell_type": "code",
   "execution_count": 135,
   "id": "cb905591",
   "metadata": {},
   "outputs": [],
   "source": [
    "y_pred=model.predict(X_test)\n"
   ]
  },
  {
   "cell_type": "code",
   "execution_count": 143,
   "id": "8501f9b6",
   "metadata": {},
   "outputs": [
    {
     "name": "stdout",
     "output_type": "stream",
     "text": [
      "89.0\n"
     ]
    }
   ],
   "source": [
    "acc_score=round(model.score(X_test,y_test),2)\n",
    "print(acc_score*100)"
   ]
  },
  {
   "cell_type": "code",
   "execution_count": 140,
   "id": "d08088c2",
   "metadata": {},
   "outputs": [],
   "source": [
    "from sklearn.metrics import classification_report"
   ]
  },
  {
   "cell_type": "code",
   "execution_count": 141,
   "id": "f433bdf5",
   "metadata": {},
   "outputs": [],
   "source": [
    "class_report = classification_report(y_test, y_pred)"
   ]
  },
  {
   "cell_type": "code",
   "execution_count": 142,
   "id": "02911e4e",
   "metadata": {},
   "outputs": [
    {
     "data": {
      "text/plain": [
       "'              precision    recall  f1-score   support\\n\\n       anger       0.89      0.88      0.88       427\\n        fear       0.84      0.86      0.85       397\\n         joy       0.90      0.92      0.91      1021\\n        love       0.82      0.78      0.80       296\\n     sadness       0.92      0.92      0.92       946\\n    surprise       0.84      0.73      0.78       113\\n\\n    accuracy                           0.89      3200\\n   macro avg       0.87      0.85      0.86      3200\\nweighted avg       0.89      0.89      0.89      3200\\n'"
      ]
     },
     "execution_count": 142,
     "metadata": {},
     "output_type": "execute_result"
    }
   ],
   "source": [
    "class_report"
   ]
  },
  {
   "cell_type": "code",
   "execution_count": null,
   "id": "7d6960c9",
   "metadata": {},
   "outputs": [],
   "source": []
  }
 ],
 "metadata": {
  "kernelspec": {
   "display_name": "Python 3 (ipykernel)",
   "language": "python",
   "name": "python3"
  },
  "language_info": {
   "codemirror_mode": {
    "name": "ipython",
    "version": 3
   },
   "file_extension": ".py",
   "mimetype": "text/x-python",
   "name": "python",
   "nbconvert_exporter": "python",
   "pygments_lexer": "ipython3",
   "version": "3.11.5"
  }
 },
 "nbformat": 4,
 "nbformat_minor": 5
}
